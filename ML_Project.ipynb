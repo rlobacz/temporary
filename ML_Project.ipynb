{
 "cells": [
  {
   "cell_type": "code",
   "execution_count": 2,
   "id": "c567acec",
   "metadata": {},
   "outputs": [],
   "source": [
    "import pandas as pd \n",
    "import numpy as np\n",
    "from sklearn.model_selection import GridSearchCV\n",
    "from sklearn.linear_model import LogisticRegression\n",
    "from sklearn.neural_network import MLPClassifier\n",
    "from sklearn.ensemble import RandomForestClassifier\n",
    "from sklearn.ensemble import AdaBoostClassifier\n",
    "from sklearn.metrics import roc_auc_score\n",
    "#from sklearn.metrics import plot_confusion_matrix\n",
    "import xgboost as xgb\n",
    "from sklearn.tree import DecisionTreeClassifier\n",
    "from sklearn.metrics import confusion_matrix,ConfusionMatrixDisplay\n",
    "from sklearn.metrics import f1_score\n",
    "from sklearn.metrics import precision_score\n",
    "from sklearn.metrics import recall_score\n",
    "\n",
    "from scipy import stats\n",
    "\n",
    "from sklearn.preprocessing import StandardScaler  \n",
    "\n",
    "import warnings\n",
    "warnings.filterwarnings('ignore')"
   ]
  },
  {
   "cell_type": "code",
   "execution_count": 3,
   "id": "b2fbb002",
   "metadata": {},
   "outputs": [],
   "source": [
    "df = pd.read_csv('586b791c.bewm_data_fixed_3.csv',sep=';')\n",
    "df.drop(['countrycode','eba71','eba91','i_tier1','i_prob' ,'i_p_prob',\n",
    "         'h_w1','h_w2','h_w3','h_p_w1','h_p_w2','h_p_w3'],axis=1,inplace=True)\n",
    "df.fillna(0,inplace=True)\n",
    "df.reset_index(drop=True,inplace=True)"
   ]
  },
  {
   "cell_type": "code",
   "execution_count": 4,
   "id": "bf612419",
   "metadata": {},
   "outputs": [],
   "source": [
    "y_test = df.loc[df.year>=2011]['distressed'].reset_index(drop=True)\n",
    "X_test = df.loc[df.year>=2011].drop(['quarter','year','bankname','distressed'],axis=1).reset_index(drop=True)\n",
    "y_train = df.loc[df.year<2011]['distressed'].reset_index(drop=True)\n",
    "X_train = df.loc[df.year<2011].drop(['quarter','year','bankname','distressed'],axis=1).reset_index(drop=True)\n",
    "\n",
    "scaler = StandardScaler()  \n",
    "scaler.fit(X_train)  \n",
    "X_train = scaler.transform(X_train)  \n",
    "X_test = scaler.transform(X_test) "
   ]
  },
  {
   "cell_type": "code",
   "execution_count": 5,
   "id": "bab8dff9",
   "metadata": {},
   "outputs": [],
   "source": [
    "list_t = []\n",
    "list_prob = []\n",
    "for i in range(4,df.shape[1]):\n",
    "    group1 = df.where(df.distressed== 1).dropna().iloc[:,i]\n",
    "    group0 = df.where(df.distressed== 0).dropna().iloc[:,i]\n",
    "    list_t.append(stats.ttest_ind(group0,group1)[0])\n",
    "    list_prob.append(stats.ttest_ind(group0,group1)[1])"
   ]
  },
  {
   "cell_type": "code",
   "execution_count": 6,
   "id": "a1ff6c7d",
   "metadata": {
    "scrolled": true
   },
   "outputs": [],
   "source": [
    "comp_stat = df.groupby('distressed').apply(pd.DataFrame.describe).transpose()[[0,1]].iloc[3:,[1,2,9,10]]\n",
    "comp_stat['t'] = list_t\n",
    "comp_stat['Prob'] = list_prob\n",
    "comp_stat.index = ['Capital ratio','Impaired assets','Reserves to impaired assets','Loan loss provisions','ROA','ROE',\n",
    "                  'Cost to income','Net interest margin','Interest expenses to liabilities','Net-short term borrowing','Deposits to funding',\n",
    "                  'Share of trading income','Total assets to GDP','Non-core liabilities','Debt to equity','Loans to deposits',\n",
    "                  'Debt securities to liabilities','Mortgages to loans','Real GDP','Inflation','Stock prices',\n",
    "                   'Long-term government bond yield','House prices','International investment position to GDP',\n",
    "                   'Government debt to GDP','Private sector credit flow to GDP']"
   ]
  },
  {
   "cell_type": "code",
   "execution_count": 7,
   "id": "3490c81d",
   "metadata": {
    "scrolled": false
   },
   "outputs": [
    {
     "data": {
      "text/html": [
       "<div>\n",
       "<style scoped>\n",
       "    .dataframe tbody tr th:only-of-type {\n",
       "        vertical-align: middle;\n",
       "    }\n",
       "\n",
       "    .dataframe tbody tr th {\n",
       "        vertical-align: top;\n",
       "    }\n",
       "\n",
       "    .dataframe thead tr th {\n",
       "        text-align: left;\n",
       "    }\n",
       "</style>\n",
       "<table border=\"1\" class=\"dataframe\">\n",
       "  <thead>\n",
       "    <tr>\n",
       "      <th>distressed</th>\n",
       "      <th colspan=\"2\" halign=\"left\">0.0</th>\n",
       "      <th colspan=\"2\" halign=\"left\">1.0</th>\n",
       "      <th>t</th>\n",
       "      <th>Prob</th>\n",
       "    </tr>\n",
       "    <tr>\n",
       "      <th></th>\n",
       "      <th>mean</th>\n",
       "      <th>std</th>\n",
       "      <th>mean</th>\n",
       "      <th>std</th>\n",
       "      <th></th>\n",
       "      <th></th>\n",
       "    </tr>\n",
       "  </thead>\n",
       "  <tbody>\n",
       "    <tr>\n",
       "      <th>Capital ratio</th>\n",
       "      <td>0.02</td>\n",
       "      <td>0.74</td>\n",
       "      <td>-0.40</td>\n",
       "      <td>0.58</td>\n",
       "      <td>13.14</td>\n",
       "      <td>0.00</td>\n",
       "    </tr>\n",
       "    <tr>\n",
       "      <th>Impaired assets</th>\n",
       "      <td>-0.00</td>\n",
       "      <td>0.98</td>\n",
       "      <td>-0.01</td>\n",
       "      <td>0.84</td>\n",
       "      <td>0.20</td>\n",
       "      <td>0.84</td>\n",
       "    </tr>\n",
       "    <tr>\n",
       "      <th>Reserves to impaired assets</th>\n",
       "      <td>-0.02</td>\n",
       "      <td>0.89</td>\n",
       "      <td>-0.11</td>\n",
       "      <td>0.94</td>\n",
       "      <td>2.25</td>\n",
       "      <td>0.02</td>\n",
       "    </tr>\n",
       "    <tr>\n",
       "      <th>Loan loss provisions</th>\n",
       "      <td>0.02</td>\n",
       "      <td>0.86</td>\n",
       "      <td>0.13</td>\n",
       "      <td>0.81</td>\n",
       "      <td>-2.96</td>\n",
       "      <td>0.00</td>\n",
       "    </tr>\n",
       "    <tr>\n",
       "      <th>ROA</th>\n",
       "      <td>0.05</td>\n",
       "      <td>0.90</td>\n",
       "      <td>-0.13</td>\n",
       "      <td>1.02</td>\n",
       "      <td>4.48</td>\n",
       "      <td>0.00</td>\n",
       "    </tr>\n",
       "    <tr>\n",
       "      <th>ROE</th>\n",
       "      <td>0.02</td>\n",
       "      <td>0.99</td>\n",
       "      <td>0.06</td>\n",
       "      <td>1.18</td>\n",
       "      <td>-0.82</td>\n",
       "      <td>0.41</td>\n",
       "    </tr>\n",
       "    <tr>\n",
       "      <th>Cost to income</th>\n",
       "      <td>0.00</td>\n",
       "      <td>0.93</td>\n",
       "      <td>-0.02</td>\n",
       "      <td>0.81</td>\n",
       "      <td>0.48</td>\n",
       "      <td>0.63</td>\n",
       "    </tr>\n",
       "    <tr>\n",
       "      <th>Net interest margin</th>\n",
       "      <td>0.11</td>\n",
       "      <td>0.85</td>\n",
       "      <td>-0.03</td>\n",
       "      <td>1.03</td>\n",
       "      <td>3.66</td>\n",
       "      <td>0.00</td>\n",
       "    </tr>\n",
       "    <tr>\n",
       "      <th>Interest expenses to liabilities</th>\n",
       "      <td>-0.17</td>\n",
       "      <td>0.83</td>\n",
       "      <td>0.23</td>\n",
       "      <td>0.98</td>\n",
       "      <td>-11.03</td>\n",
       "      <td>0.00</td>\n",
       "    </tr>\n",
       "    <tr>\n",
       "      <th>Net-short term borrowing</th>\n",
       "      <td>0.05</td>\n",
       "      <td>0.91</td>\n",
       "      <td>0.15</td>\n",
       "      <td>0.80</td>\n",
       "      <td>-2.53</td>\n",
       "      <td>0.01</td>\n",
       "    </tr>\n",
       "    <tr>\n",
       "      <th>Deposits to funding</th>\n",
       "      <td>-0.02</td>\n",
       "      <td>0.86</td>\n",
       "      <td>-0.01</td>\n",
       "      <td>0.89</td>\n",
       "      <td>-0.36</td>\n",
       "      <td>0.72</td>\n",
       "    </tr>\n",
       "    <tr>\n",
       "      <th>Share of trading income</th>\n",
       "      <td>0.01</td>\n",
       "      <td>0.97</td>\n",
       "      <td>0.05</td>\n",
       "      <td>1.05</td>\n",
       "      <td>-0.88</td>\n",
       "      <td>0.38</td>\n",
       "    </tr>\n",
       "    <tr>\n",
       "      <th>Total assets to GDP</th>\n",
       "      <td>-0.12</td>\n",
       "      <td>0.37</td>\n",
       "      <td>0.10</td>\n",
       "      <td>0.56</td>\n",
       "      <td>-12.94</td>\n",
       "      <td>0.00</td>\n",
       "    </tr>\n",
       "    <tr>\n",
       "      <th>Non-core liabilities</th>\n",
       "      <td>-0.03</td>\n",
       "      <td>1.06</td>\n",
       "      <td>0.21</td>\n",
       "      <td>1.06</td>\n",
       "      <td>-5.19</td>\n",
       "      <td>0.00</td>\n",
       "    </tr>\n",
       "    <tr>\n",
       "      <th>Debt to equity</th>\n",
       "      <td>-0.33</td>\n",
       "      <td>0.83</td>\n",
       "      <td>0.04</td>\n",
       "      <td>0.85</td>\n",
       "      <td>-10.02</td>\n",
       "      <td>0.00</td>\n",
       "    </tr>\n",
       "    <tr>\n",
       "      <th>Loans to deposits</th>\n",
       "      <td>-0.11</td>\n",
       "      <td>0.91</td>\n",
       "      <td>0.01</td>\n",
       "      <td>1.39</td>\n",
       "      <td>-2.86</td>\n",
       "      <td>0.00</td>\n",
       "    </tr>\n",
       "    <tr>\n",
       "      <th>Debt securities to liabilities</th>\n",
       "      <td>-0.04</td>\n",
       "      <td>0.96</td>\n",
       "      <td>-0.29</td>\n",
       "      <td>1.20</td>\n",
       "      <td>5.69</td>\n",
       "      <td>0.00</td>\n",
       "    </tr>\n",
       "    <tr>\n",
       "      <th>Mortgages to loans</th>\n",
       "      <td>0.15</td>\n",
       "      <td>1.03</td>\n",
       "      <td>0.47</td>\n",
       "      <td>0.99</td>\n",
       "      <td>-7.11</td>\n",
       "      <td>0.00</td>\n",
       "    </tr>\n",
       "    <tr>\n",
       "      <th>Real GDP</th>\n",
       "      <td>-0.12</td>\n",
       "      <td>0.98</td>\n",
       "      <td>-0.43</td>\n",
       "      <td>1.30</td>\n",
       "      <td>7.26</td>\n",
       "      <td>0.00</td>\n",
       "    </tr>\n",
       "    <tr>\n",
       "      <th>Inflation</th>\n",
       "      <td>-0.04</td>\n",
       "      <td>0.86</td>\n",
       "      <td>0.06</td>\n",
       "      <td>1.23</td>\n",
       "      <td>-2.56</td>\n",
       "      <td>0.01</td>\n",
       "    </tr>\n",
       "    <tr>\n",
       "      <th>Stock prices</th>\n",
       "      <td>-0.03</td>\n",
       "      <td>0.96</td>\n",
       "      <td>-0.21</td>\n",
       "      <td>1.04</td>\n",
       "      <td>4.26</td>\n",
       "      <td>0.00</td>\n",
       "    </tr>\n",
       "    <tr>\n",
       "      <th>Long-term government bond yield</th>\n",
       "      <td>0.02</td>\n",
       "      <td>1.11</td>\n",
       "      <td>0.23</td>\n",
       "      <td>1.57</td>\n",
       "      <td>-4.32</td>\n",
       "      <td>0.00</td>\n",
       "    </tr>\n",
       "    <tr>\n",
       "      <th>House prices</th>\n",
       "      <td>-0.01</td>\n",
       "      <td>1.07</td>\n",
       "      <td>-0.29</td>\n",
       "      <td>0.62</td>\n",
       "      <td>6.07</td>\n",
       "      <td>0.00</td>\n",
       "    </tr>\n",
       "    <tr>\n",
       "      <th>International investment position to GDP</th>\n",
       "      <td>-0.24</td>\n",
       "      <td>0.95</td>\n",
       "      <td>-0.69</td>\n",
       "      <td>1.27</td>\n",
       "      <td>10.69</td>\n",
       "      <td>0.00</td>\n",
       "    </tr>\n",
       "    <tr>\n",
       "      <th>Government debt to GDP</th>\n",
       "      <td>0.16</td>\n",
       "      <td>1.04</td>\n",
       "      <td>-0.20</td>\n",
       "      <td>1.11</td>\n",
       "      <td>7.93</td>\n",
       "      <td>0.00</td>\n",
       "    </tr>\n",
       "    <tr>\n",
       "      <th>Private sector credit flow to GDP</th>\n",
       "      <td>-0.06</td>\n",
       "      <td>0.85</td>\n",
       "      <td>0.65</td>\n",
       "      <td>1.10</td>\n",
       "      <td>-18.57</td>\n",
       "      <td>0.00</td>\n",
       "    </tr>\n",
       "  </tbody>\n",
       "</table>\n",
       "</div>"
      ],
      "text/plain": [
       "distressed                                 0.0         1.0            t  Prob\n",
       "                                          mean   std  mean   std             \n",
       "Capital ratio                             0.02  0.74 -0.40  0.58  13.14  0.00\n",
       "Impaired assets                          -0.00  0.98 -0.01  0.84   0.20  0.84\n",
       "Reserves to impaired assets              -0.02  0.89 -0.11  0.94   2.25  0.02\n",
       "Loan loss provisions                      0.02  0.86  0.13  0.81  -2.96  0.00\n",
       "ROA                                       0.05  0.90 -0.13  1.02   4.48  0.00\n",
       "ROE                                       0.02  0.99  0.06  1.18  -0.82  0.41\n",
       "Cost to income                            0.00  0.93 -0.02  0.81   0.48  0.63\n",
       "Net interest margin                       0.11  0.85 -0.03  1.03   3.66  0.00\n",
       "Interest expenses to liabilities         -0.17  0.83  0.23  0.98 -11.03  0.00\n",
       "Net-short term borrowing                  0.05  0.91  0.15  0.80  -2.53  0.01\n",
       "Deposits to funding                      -0.02  0.86 -0.01  0.89  -0.36  0.72\n",
       "Share of trading income                   0.01  0.97  0.05  1.05  -0.88  0.38\n",
       "Total assets to GDP                      -0.12  0.37  0.10  0.56 -12.94  0.00\n",
       "Non-core liabilities                     -0.03  1.06  0.21  1.06  -5.19  0.00\n",
       "Debt to equity                           -0.33  0.83  0.04  0.85 -10.02  0.00\n",
       "Loans to deposits                        -0.11  0.91  0.01  1.39  -2.86  0.00\n",
       "Debt securities to liabilities           -0.04  0.96 -0.29  1.20   5.69  0.00\n",
       "Mortgages to loans                        0.15  1.03  0.47  0.99  -7.11  0.00\n",
       "Real GDP                                 -0.12  0.98 -0.43  1.30   7.26  0.00\n",
       "Inflation                                -0.04  0.86  0.06  1.23  -2.56  0.01\n",
       "Stock prices                             -0.03  0.96 -0.21  1.04   4.26  0.00\n",
       "Long-term government bond yield           0.02  1.11  0.23  1.57  -4.32  0.00\n",
       "House prices                             -0.01  1.07 -0.29  0.62   6.07  0.00\n",
       "International investment position to GDP -0.24  0.95 -0.69  1.27  10.69  0.00\n",
       "Government debt to GDP                    0.16  1.04 -0.20  1.11   7.93  0.00\n",
       "Private sector credit flow to GDP        -0.06  0.85  0.65  1.10 -18.57  0.00"
      ]
     },
     "execution_count": 7,
     "metadata": {},
     "output_type": "execute_result"
    }
   ],
   "source": [
    "comp_stat.round(2)"
   ]
  },
  {
   "cell_type": "code",
   "execution_count": 8,
   "id": "a654f6cc",
   "metadata": {},
   "outputs": [
    {
     "data": {
      "image/png": "[encoded data removed]",
      "text/plain": [
       "<IPython.core.display.Image object>"
      ]
     },
     "execution_count": 8,
     "metadata": {},
     "output_type": "execute_result"
    }
   ],
   "source": [
    "from IPython.display import Image\n",
    "Image(\"hybrid.PNG\")"
   ]
  },
  {
   "cell_type": "code",
   "execution_count": 9,
   "id": "8ea5e1a1",
   "metadata": {},
   "outputs": [],
   "source": [
    "#########\n",
    "#Modelling"
   ]
  },
  {
   "cell_type": "code",
   "execution_count": 10,
   "id": "47d9131e",
   "metadata": {},
   "outputs": [
    {
     "name": "stdout",
     "output_type": "stream",
     "text": [
      "AUROC on cross-validadtion: 0.7527291013946591\n"
     ]
    }
   ],
   "source": [
    "##Logistic Regression\n",
    "#Instantiate a logistic regression classifier: logreg\n",
    "logreg = LogisticRegression(random_state=123,max_iter=1000,solver='lbfgs')\n",
    "\n",
    "logreg_cv = GridSearchCV(logreg, param_grid = {'penalty' : ['none']},scoring='roc_auc',\n",
    "                          cv = 5)\n",
    "\n",
    "logreg_cv.fit(X_train, y_train)\n",
    "print(\"AUROC on cross-validadtion: {}\".format(logreg_cv.best_score_))"
   ]
  },
  {
   "cell_type": "code",
   "execution_count": 11,
   "id": "6a858e8b",
   "metadata": {
    "scrolled": true
   },
   "outputs": [
    {
     "name": "stdout",
     "output_type": "stream",
     "text": [
      "[17:55:41] WARNING: C:/Users/Administrator/workspace/xgboost-win64_release_1.5.1/src/learner.cc:1115: Starting in XGBoost 1.3.0, the default evaluation metric used with the objective 'binary:logistic' was changed from 'error' to 'logloss'. Explicitly set eval_metric if you'd like to restore the old behavior.\n",
      "AUROC on cross-validadtion: 0.860624087965346\n"
     ]
    }
   ],
   "source": [
    "###XGB\n",
    "#Instantiate a gradient boosting\n",
    "xgb_m = xgb.XGBClassifier(random_state=123)\n",
    "\n",
    "#                                          {'eta' : [0.1,0.2,0.3],\n",
    "#                                          'n_estimators':[50,100,200,300],\n",
    "#                                          'max_depth':[2,5,10,15,20,30],\n",
    "#                                          'gamma':[0,0.2,0.5],\n",
    "#                                          'lambda':[1,1.2,1.5],\n",
    "#                                          'alpha':[0,0.2,0.5,0.8]},\n",
    "\n",
    "#alpha=0.5, eta=0.2, gamma=0, lambda=1, max_depth=10, n_estimators=100,\n",
    "xgb_cv = GridSearchCV(xgb_m, param_grid = {'alpha': [0.5],\n",
    "                                                 'eta': [0.2],\n",
    "                                                 'gamma': [0],\n",
    "                                                 'lambda': [1],\n",
    "                                                 'max_depth': [10],\n",
    "                                                 'n_estimators': [100]},\n",
    "                                 scoring='roc_auc',n_jobs=-1,cv = 5)\n",
    "\n",
    "# Compute accuracy on test set\n",
    "xgb_cv.fit(X_train, y_train)\n",
    "print(\"AUROC on cross-validadtion: {}\".format(xgb_cv.best_score_))"
   ]
  },
  {
   "cell_type": "code",
   "execution_count": 12,
   "id": "4e154320",
   "metadata": {},
   "outputs": [
    {
     "name": "stdout",
     "output_type": "stream",
     "text": [
      "AUROC on cross-validadtion: 0.849281261292419\n"
     ]
    }
   ],
   "source": [
    "###Multilayer perceptron\n",
    "#Instantiate a MLP\n",
    "mlp = MLPClassifier(random_state=123)\n",
    "\n",
    "#mlp_cv = GridSearchCV(mlp, param_grid = {'hidden_layer_sizes':[(100,50,),(200,),(2,),(3,),(5,),(7,),(10,),\n",
    "#                                                              (5,5,),(10,5,),(30,20,10,)],\n",
    "#                                         'max_iter': [600],\n",
    "#                                         'alpha': [0.0001,0.001,0.01,0.1,0.5],\n",
    "#                                        'activation': ['relu','identity', 'tanh','logistic']},\n",
    "#                                 scoring='roc_auc',n_jobs=-1,cv = 5)\n",
    "\n",
    "mlp_cv = GridSearchCV(mlp, param_grid = {'hidden_layer_sizes':[(10,)],\n",
    "                                        'activation': ['tanh'],\n",
    "                                         'alpha': [0.5],\n",
    "                                         'learning_rate': ['constant'],\n",
    "                                        'max_iter': [600]},\n",
    "                                 scoring='roc_auc',n_jobs=-1,cv = 5)\n",
    "\n",
    "mlp_cv.fit(X_train, y_train)\n",
    "print(\"AUROC on cross-validadtion: {}\".format(mlp_cv.best_score_))"
   ]
  },
  {
   "cell_type": "code",
   "execution_count": 13,
   "id": "b404100b",
   "metadata": {},
   "outputs": [],
   "source": [
    "######\n",
    "#ensemble\n",
    "d = {'xgb':xgb_cv.predict_proba(X_train)[:,1], 'mlp':mlp_cv.predict_proba(X_train)[:,1]}\n",
    "X_train_ensemble = pd.DataFrame(d)\n",
    "d_test = {'xgb':xgb_cv.predict_proba(X_test)[:,1], 'mlp':mlp_cv.predict_proba(X_test)[:,1]}\n",
    "X_test_ensemble = pd.DataFrame(d_test)"
   ]
  },
  {
   "cell_type": "code",
   "execution_count": 14,
   "id": "867f5cbd",
   "metadata": {},
   "outputs": [
    {
     "data": {
      "text/html": [
       "<div>\n",
       "<style scoped>\n",
       "    .dataframe tbody tr th:only-of-type {\n",
       "        vertical-align: middle;\n",
       "    }\n",
       "\n",
       "    .dataframe tbody tr th {\n",
       "        vertical-align: top;\n",
       "    }\n",
       "\n",
       "    .dataframe thead th {\n",
       "        text-align: right;\n",
       "    }\n",
       "</style>\n",
       "<table border=\"1\" class=\"dataframe\">\n",
       "  <thead>\n",
       "    <tr style=\"text-align: right;\">\n",
       "      <th></th>\n",
       "      <th>xgb</th>\n",
       "      <th>mlp</th>\n",
       "    </tr>\n",
       "  </thead>\n",
       "  <tbody>\n",
       "    <tr>\n",
       "      <th>0</th>\n",
       "      <td>0.000055</td>\n",
       "      <td>0.001344</td>\n",
       "    </tr>\n",
       "    <tr>\n",
       "      <th>1</th>\n",
       "      <td>0.000073</td>\n",
       "      <td>0.001615</td>\n",
       "    </tr>\n",
       "    <tr>\n",
       "      <th>2</th>\n",
       "      <td>0.000097</td>\n",
       "      <td>0.001747</td>\n",
       "    </tr>\n",
       "    <tr>\n",
       "      <th>3</th>\n",
       "      <td>0.000167</td>\n",
       "      <td>0.003333</td>\n",
       "    </tr>\n",
       "    <tr>\n",
       "      <th>4</th>\n",
       "      <td>0.000228</td>\n",
       "      <td>0.001702</td>\n",
       "    </tr>\n",
       "  </tbody>\n",
       "</table>\n",
       "</div>"
      ],
      "text/plain": [
       "        xgb       mlp\n",
       "0  0.000055  0.001344\n",
       "1  0.000073  0.001615\n",
       "2  0.000097  0.001747\n",
       "3  0.000167  0.003333\n",
       "4  0.000228  0.001702"
      ]
     },
     "execution_count": 14,
     "metadata": {},
     "output_type": "execute_result"
    }
   ],
   "source": [
    "X_train_ensemble.head()"
   ]
  },
  {
   "cell_type": "code",
   "execution_count": 15,
   "id": "49acc196",
   "metadata": {},
   "outputs": [
    {
     "name": "stdout",
     "output_type": "stream",
     "text": [
      "AUROC on cross-validadtion: 1.0\n"
     ]
    }
   ],
   "source": [
    "clf = DecisionTreeClassifier(random_state=123)\n",
    "\n",
    "clf_cv = GridSearchCV(clf, param_grid = {'splitter' : ['random','best'],\n",
    "                        'max_depth' : [2,3,4,5,10,15,20],\n",
    "                      'max_features' : [2]},\n",
    "                      scoring='roc_auc',\n",
    "                          cv = 5)\n",
    "\n",
    "clf_cv.fit(X_train_enemble, y_train)\n",
    "print(\"AUROC on cross-validadtion: {}\".format(clf_cv.best_score_))"
   ]
  },
  {
   "cell_type": "code",
   "execution_count": 16,
   "id": "aee43727",
   "metadata": {},
   "outputs": [
    {
     "name": "stdout",
     "output_type": "stream",
     "text": [
      "digraph Tree {\n",
      "node [shape=box, style=\"filled\", color=\"black\"] ;\n",
      "0 [label=\"xgb <= 0.221\\ngini = 0.12\\nsamples = 8122\\nvalue = [7603, 519]\", fillcolor=\"#e78a47\"] ;\n",
      "1 [label=\"gini = 0.0\\nsamples = 7603\\nvalue = [7603, 0]\", fillcolor=\"#e58139\"] ;\n",
      "0 -> 1 [labeldistance=2.5, labelangle=45, headlabel=\"True\"] ;\n",
      "2 [label=\"gini = 0.0\\nsamples = 519\\nvalue = [0, 519]\", fillcolor=\"#399de5\"] ;\n",
      "0 -> 2 [labeldistance=2.5, labelangle=-45, headlabel=\"False\"] ;\n",
      "}\n"
     ]
    }
   ],
   "source": [
    "from sklearn.tree import export_graphviz\n",
    "tree_structure = export_graphviz( \n",
    " clf_cv.best_estimator_,\n",
    " out_file=None,\n",
    " feature_names=['xgb','mlp'],\n",
    " class_names=None,\n",
    " filled=True,\n",
    ")\n",
    "print(tree_structure)"
   ]
  },
  {
   "cell_type": "code",
   "execution_count": 17,
   "id": "a9b891d3",
   "metadata": {},
   "outputs": [
    {
     "data": {
      "image/png": "[encoded data removed]",
      "text/plain": [
       "<IPython.core.display.Image object>"
      ]
     },
     "execution_count": 17,
     "metadata": {},
     "output_type": "execute_result"
    }
   ],
   "source": [
    "Image(\"dt_plt.PNG\")"
   ]
  },
  {
   "cell_type": "code",
   "execution_count": 18,
   "id": "3c5a855d",
   "metadata": {},
   "outputs": [],
   "source": [
    "#creating dataframe for results\n",
    "results_df = pd.DataFrame({'LOGIT': [0, 0], 'XGBOOST': [0, 0],'MLP': [0, 0],'HYBRID': [0, 0]},\n",
    "                          index=[\"Cross-Validation\",\"Test\"])\n",
    "results_df['LOGIT'] = [logreg_cv.best_score_,roc_auc_score(y_test, logreg_cv.predict_proba(X_test)[:,1])]\n",
    "results_df['XGBOOST'] = [xgb_cv.best_score_,roc_auc_score(y_test, xgb_cv.predict_proba(X_test)[:,1])]\n",
    "results_df['MLP'] = [mlp_cv.best_score_,roc_auc_score(y_test, mlp_cv.predict_proba(X_test)[:,1])]\n",
    "results_df['HYBRID'] = [clf_cv.best_score_,roc_auc_score(y_test, clf_cv.predict_proba(X_test_ensemble)[:,1])]"
   ]
  },
  {
   "cell_type": "code",
   "execution_count": 19,
   "id": "1c9576a0",
   "metadata": {},
   "outputs": [
    {
     "data": {
      "text/html": [
       "<div>\n",
       "<style scoped>\n",
       "    .dataframe tbody tr th:only-of-type {\n",
       "        vertical-align: middle;\n",
       "    }\n",
       "\n",
       "    .dataframe tbody tr th {\n",
       "        vertical-align: top;\n",
       "    }\n",
       "\n",
       "    .dataframe thead th {\n",
       "        text-align: right;\n",
       "    }\n",
       "</style>\n",
       "<table border=\"1\" class=\"dataframe\">\n",
       "  <thead>\n",
       "    <tr style=\"text-align: right;\">\n",
       "      <th></th>\n",
       "      <th>Cross-Validation</th>\n",
       "      <th>Test</th>\n",
       "    </tr>\n",
       "  </thead>\n",
       "  <tbody>\n",
       "    <tr>\n",
       "      <th>HYBRID</th>\n",
       "      <td>1.000</td>\n",
       "      <td>0.776</td>\n",
       "    </tr>\n",
       "    <tr>\n",
       "      <th>XGBOOST</th>\n",
       "      <td>0.861</td>\n",
       "      <td>0.966</td>\n",
       "    </tr>\n",
       "    <tr>\n",
       "      <th>MLP</th>\n",
       "      <td>0.849</td>\n",
       "      <td>0.908</td>\n",
       "    </tr>\n",
       "    <tr>\n",
       "      <th>LOGIT</th>\n",
       "      <td>0.753</td>\n",
       "      <td>0.828</td>\n",
       "    </tr>\n",
       "  </tbody>\n",
       "</table>\n",
       "</div>"
      ],
      "text/plain": [
       "         Cross-Validation   Test\n",
       "HYBRID              1.000  0.776\n",
       "XGBOOST             0.861  0.966\n",
       "MLP                 0.849  0.908\n",
       "LOGIT               0.753  0.828"
      ]
     },
     "execution_count": 19,
     "metadata": {},
     "output_type": "execute_result"
    }
   ],
   "source": [
    "results_df.round(3).transpose().sort_values('Cross-Validation',ascending=False)"
   ]
  },
  {
   "cell_type": "code",
   "execution_count": 20,
   "id": "b5b34639",
   "metadata": {},
   "outputs": [],
   "source": [
    "list_f1 = []\n",
    "list_recall = []\n",
    "list_precision = []\n",
    "\n",
    "for i in np.arange(0.05,0.7,0.05):\n",
    "    list_f1.append(f1_score(y_test,logreg_cv.predict_proba(X_test)[:,1]>i))\n",
    "    list_recall.append(recall_score(y_test,logreg_cv.predict_proba(X_test)[:,1]>i))\n",
    "    list_precision.append(precision_score(y_test,logreg_cv.predict_proba(X_test)[:,1]>i))\n",
    "for i in np.arange(0.05,0.7,0.05):\n",
    "    list_f1.append(f1_score(y_test,clf_cv.predict_proba(X_test_ensemble)[:,1]>i))\n",
    "    list_recall.append(recall_score(y_test,clf_cv.predict_proba(X_test_ensemble)[:,1]>i))\n",
    "    list_precision.append(precision_score(y_test,clf_cv.predict_proba(X_test_ensemble)[:,1]>i))\n",
    "for i in np.arange(0.05,0.7,0.05):\n",
    "    list_f1.append(f1_score(y_test,xgb_cv.predict_proba(X_test)[:,1]>i))\n",
    "    list_recall.append(recall_score(y_test,xgb_cv.predict_proba(X_test)[:,1]>i))\n",
    "    list_precision.append(precision_score(y_test,xgb_cv.predict_proba(X_test)[:,1]>i))"
   ]
  },
  {
   "cell_type": "code",
   "execution_count": 21,
   "id": "4c68b7ea",
   "metadata": {},
   "outputs": [],
   "source": [
    "df = pd.DataFrame({\n",
    "    'model' : np.repeat(['LOGIT','HYBRID','XGB'],13),\n",
    "    'cut-off' : np.round(list(np.arange(0.05,0.7,0.05)) *3,3),\n",
    "    'f1' : np.round(list_f1,3),\n",
    "    'recall' : np.round(list_recall,3),\n",
    "    'precision' : np.round(list_precision,3)\n",
    "})\n",
    "df_multi = df.set_index(['cut-off','model']).stack().unstack([1,2])"
   ]
  },
  {
   "cell_type": "code",
   "execution_count": 22,
   "id": "2bcb5f46",
   "metadata": {
    "scrolled": false
   },
   "outputs": [
    {
     "data": {
      "text/html": [
       "<style  type=\"text/css\" >\n",
       "#T_3f7b7_row0_col0,#T_3f7b7_row0_col1,#T_3f7b7_row0_col2,#T_3f7b7_row1_col0,#T_3f7b7_row1_col1,#T_3f7b7_row1_col2,#T_3f7b7_row2_col0,#T_3f7b7_row2_col1,#T_3f7b7_row2_col2,#T_3f7b7_row3_col0,#T_3f7b7_row3_col1,#T_3f7b7_row3_col2,#T_3f7b7_row4_col0,#T_3f7b7_row4_col1,#T_3f7b7_row4_col2,#T_3f7b7_row5_col0,#T_3f7b7_row5_col1,#T_3f7b7_row5_col2,#T_3f7b7_row6_col0,#T_3f7b7_row6_col1,#T_3f7b7_row6_col2,#T_3f7b7_row7_col0,#T_3f7b7_row7_col1,#T_3f7b7_row7_col2,#T_3f7b7_row8_col0,#T_3f7b7_row8_col1,#T_3f7b7_row8_col2,#T_3f7b7_row9_col0,#T_3f7b7_row9_col1,#T_3f7b7_row9_col2,#T_3f7b7_row10_col0,#T_3f7b7_row10_col1,#T_3f7b7_row10_col2,#T_3f7b7_row11_col0,#T_3f7b7_row11_col1,#T_3f7b7_row11_col2,#T_3f7b7_row12_col0,#T_3f7b7_row12_col1,#T_3f7b7_row12_col2{\n",
       "            font-weight:  bold;\n",
       "            color: cornflowerblue;\n",
       "        }#T_3f7b7_row0_col3,#T_3f7b7_row0_col4,#T_3f7b7_row0_col5,#T_3f7b7_row1_col3,#T_3f7b7_row1_col4,#T_3f7b7_row1_col5,#T_3f7b7_row2_col3,#T_3f7b7_row2_col4,#T_3f7b7_row2_col5,#T_3f7b7_row3_col3,#T_3f7b7_row3_col4,#T_3f7b7_row3_col5,#T_3f7b7_row4_col3,#T_3f7b7_row4_col4,#T_3f7b7_row4_col5,#T_3f7b7_row5_col3,#T_3f7b7_row5_col4,#T_3f7b7_row5_col5,#T_3f7b7_row6_col3,#T_3f7b7_row6_col4,#T_3f7b7_row6_col5,#T_3f7b7_row7_col3,#T_3f7b7_row7_col4,#T_3f7b7_row7_col5,#T_3f7b7_row8_col3,#T_3f7b7_row8_col4,#T_3f7b7_row8_col5,#T_3f7b7_row9_col3,#T_3f7b7_row9_col4,#T_3f7b7_row9_col5,#T_3f7b7_row10_col3,#T_3f7b7_row10_col4,#T_3f7b7_row10_col5,#T_3f7b7_row11_col3,#T_3f7b7_row11_col4,#T_3f7b7_row11_col5,#T_3f7b7_row12_col3,#T_3f7b7_row12_col4,#T_3f7b7_row12_col5{\n",
       "            font-weight:  bold;\n",
       "            color: indianred;\n",
       "        }#T_3f7b7_row0_col6,#T_3f7b7_row0_col7,#T_3f7b7_row0_col8,#T_3f7b7_row1_col6,#T_3f7b7_row1_col7,#T_3f7b7_row1_col8,#T_3f7b7_row2_col6,#T_3f7b7_row2_col7,#T_3f7b7_row2_col8,#T_3f7b7_row3_col6,#T_3f7b7_row3_col7,#T_3f7b7_row3_col8,#T_3f7b7_row4_col6,#T_3f7b7_row4_col7,#T_3f7b7_row4_col8,#T_3f7b7_row5_col6,#T_3f7b7_row5_col7,#T_3f7b7_row5_col8,#T_3f7b7_row6_col6,#T_3f7b7_row6_col7,#T_3f7b7_row6_col8,#T_3f7b7_row7_col6,#T_3f7b7_row7_col7,#T_3f7b7_row7_col8,#T_3f7b7_row8_col6,#T_3f7b7_row8_col7,#T_3f7b7_row8_col8,#T_3f7b7_row9_col6,#T_3f7b7_row9_col7,#T_3f7b7_row9_col8,#T_3f7b7_row10_col6,#T_3f7b7_row10_col7,#T_3f7b7_row10_col8,#T_3f7b7_row11_col6,#T_3f7b7_row11_col7,#T_3f7b7_row11_col8,#T_3f7b7_row12_col6,#T_3f7b7_row12_col7,#T_3f7b7_row12_col8{\n",
       "            font-weight:  bold;\n",
       "            color: black;\n",
       "        }</style><table id=\"T_3f7b7_\" ><thead>    <tr>        <th class=\"index_name level0\" >model</th>        <th class=\"col_heading level0 col0\" colspan=\"3\">LOGIT</th>        <th class=\"col_heading level0 col3\" colspan=\"3\">HYBRID</th>        <th class=\"col_heading level0 col6\" colspan=\"3\">XGB</th>    </tr>    <tr>        <th class=\"blank level1\" ></th>        <th class=\"col_heading level1 col0\" >f1</th>        <th class=\"col_heading level1 col1\" >recall</th>        <th class=\"col_heading level1 col2\" >precision</th>        <th class=\"col_heading level1 col3\" >f1</th>        <th class=\"col_heading level1 col4\" >recall</th>        <th class=\"col_heading level1 col5\" >precision</th>        <th class=\"col_heading level1 col6\" >f1</th>        <th class=\"col_heading level1 col7\" >recall</th>        <th class=\"col_heading level1 col8\" >precision</th>    </tr>    <tr>        <th class=\"index_name level0\" >cut-off</th>        <th class=\"blank\" ></th>        <th class=\"blank\" ></th>        <th class=\"blank\" ></th>        <th class=\"blank\" ></th>        <th class=\"blank\" ></th>        <th class=\"blank\" ></th>        <th class=\"blank\" ></th>        <th class=\"blank\" ></th>        <th class=\"blank\" ></th>    </tr></thead><tbody>\n",
       "                <tr>\n",
       "                        <th id=\"T_3f7b7_level0_row0\" class=\"row_heading level0 row0\" >0.05</th>\n",
       "                        <td id=\"T_3f7b7_row0_col0\" class=\"data row0 col0\" >0.038</td>\n",
       "                        <td id=\"T_3f7b7_row0_col1\" class=\"data row0 col1\" >1.000</td>\n",
       "                        <td id=\"T_3f7b7_row0_col2\" class=\"data row0 col2\" >0.020</td>\n",
       "                        <td id=\"T_3f7b7_row0_col3\" class=\"data row0 col3\" >0.395</td>\n",
       "                        <td id=\"T_3f7b7_row0_col4\" class=\"data row0 col4\" >0.567</td>\n",
       "                        <td id=\"T_3f7b7_row0_col5\" class=\"data row0 col5\" >0.304</td>\n",
       "                        <td id=\"T_3f7b7_row0_col6\" class=\"data row0 col6\" >0.209</td>\n",
       "                        <td id=\"T_3f7b7_row0_col7\" class=\"data row0 col7\" >0.833</td>\n",
       "                        <td id=\"T_3f7b7_row0_col8\" class=\"data row0 col8\" >0.120</td>\n",
       "            </tr>\n",
       "            <tr>\n",
       "                        <th id=\"T_3f7b7_level0_row1\" class=\"row_heading level0 row1\" >0.1</th>\n",
       "                        <td id=\"T_3f7b7_row1_col0\" class=\"data row1 col0\" >0.061</td>\n",
       "                        <td id=\"T_3f7b7_row1_col1\" class=\"data row1 col1\" >0.933</td>\n",
       "                        <td id=\"T_3f7b7_row1_col2\" class=\"data row1 col2\" >0.032</td>\n",
       "                        <td id=\"T_3f7b7_row1_col3\" class=\"data row1 col3\" >0.395</td>\n",
       "                        <td id=\"T_3f7b7_row1_col4\" class=\"data row1 col4\" >0.567</td>\n",
       "                        <td id=\"T_3f7b7_row1_col5\" class=\"data row1 col5\" >0.304</td>\n",
       "                        <td id=\"T_3f7b7_row1_col6\" class=\"data row1 col6\" >0.293</td>\n",
       "                        <td id=\"T_3f7b7_row1_col7\" class=\"data row1 col7\" >0.733</td>\n",
       "                        <td id=\"T_3f7b7_row1_col8\" class=\"data row1 col8\" >0.183</td>\n",
       "            </tr>\n",
       "            <tr>\n",
       "                        <th id=\"T_3f7b7_level0_row2\" class=\"row_heading level0 row2\" >0.15</th>\n",
       "                        <td id=\"T_3f7b7_row2_col0\" class=\"data row2 col0\" >0.064</td>\n",
       "                        <td id=\"T_3f7b7_row2_col1\" class=\"data row2 col1\" >0.667</td>\n",
       "                        <td id=\"T_3f7b7_row2_col2\" class=\"data row2 col2\" >0.034</td>\n",
       "                        <td id=\"T_3f7b7_row2_col3\" class=\"data row2 col3\" >0.395</td>\n",
       "                        <td id=\"T_3f7b7_row2_col4\" class=\"data row2 col4\" >0.567</td>\n",
       "                        <td id=\"T_3f7b7_row2_col5\" class=\"data row2 col5\" >0.304</td>\n",
       "                        <td id=\"T_3f7b7_row2_col6\" class=\"data row2 col6\" >0.374</td>\n",
       "                        <td id=\"T_3f7b7_row2_col7\" class=\"data row2 col7\" >0.667</td>\n",
       "                        <td id=\"T_3f7b7_row2_col8\" class=\"data row2 col8\" >0.260</td>\n",
       "            </tr>\n",
       "            <tr>\n",
       "                        <th id=\"T_3f7b7_level0_row3\" class=\"row_heading level0 row3\" >0.2</th>\n",
       "                        <td id=\"T_3f7b7_row3_col0\" class=\"data row3 col0\" >0.057</td>\n",
       "                        <td id=\"T_3f7b7_row3_col1\" class=\"data row3 col1\" >0.433</td>\n",
       "                        <td id=\"T_3f7b7_row3_col2\" class=\"data row3 col2\" >0.030</td>\n",
       "                        <td id=\"T_3f7b7_row3_col3\" class=\"data row3 col3\" >0.395</td>\n",
       "                        <td id=\"T_3f7b7_row3_col4\" class=\"data row3 col4\" >0.567</td>\n",
       "                        <td id=\"T_3f7b7_row3_col5\" class=\"data row3 col5\" >0.304</td>\n",
       "                        <td id=\"T_3f7b7_row3_col6\" class=\"data row3 col6\" >0.386</td>\n",
       "                        <td id=\"T_3f7b7_row3_col7\" class=\"data row3 col7\" >0.567</td>\n",
       "                        <td id=\"T_3f7b7_row3_col8\" class=\"data row3 col8\" >0.293</td>\n",
       "            </tr>\n",
       "            <tr>\n",
       "                        <th id=\"T_3f7b7_level0_row4\" class=\"row_heading level0 row4\" >0.25</th>\n",
       "                        <td id=\"T_3f7b7_row4_col0\" class=\"data row4 col0\" >0.053</td>\n",
       "                        <td id=\"T_3f7b7_row4_col1\" class=\"data row4 col1\" >0.300</td>\n",
       "                        <td id=\"T_3f7b7_row4_col2\" class=\"data row4 col2\" >0.029</td>\n",
       "                        <td id=\"T_3f7b7_row4_col3\" class=\"data row4 col3\" >0.395</td>\n",
       "                        <td id=\"T_3f7b7_row4_col4\" class=\"data row4 col4\" >0.567</td>\n",
       "                        <td id=\"T_3f7b7_row4_col5\" class=\"data row4 col5\" >0.304</td>\n",
       "                        <td id=\"T_3f7b7_row4_col6\" class=\"data row4 col6\" >0.447</td>\n",
       "                        <td id=\"T_3f7b7_row4_col7\" class=\"data row4 col7\" >0.567</td>\n",
       "                        <td id=\"T_3f7b7_row4_col8\" class=\"data row4 col8\" >0.370</td>\n",
       "            </tr>\n",
       "            <tr>\n",
       "                        <th id=\"T_3f7b7_level0_row5\" class=\"row_heading level0 row5\" >0.3</th>\n",
       "                        <td id=\"T_3f7b7_row5_col0\" class=\"data row5 col0\" >0.033</td>\n",
       "                        <td id=\"T_3f7b7_row5_col1\" class=\"data row5 col1\" >0.133</td>\n",
       "                        <td id=\"T_3f7b7_row5_col2\" class=\"data row5 col2\" >0.019</td>\n",
       "                        <td id=\"T_3f7b7_row5_col3\" class=\"data row5 col3\" >0.395</td>\n",
       "                        <td id=\"T_3f7b7_row5_col4\" class=\"data row5 col4\" >0.567</td>\n",
       "                        <td id=\"T_3f7b7_row5_col5\" class=\"data row5 col5\" >0.304</td>\n",
       "                        <td id=\"T_3f7b7_row5_col6\" class=\"data row5 col6\" >0.441</td>\n",
       "                        <td id=\"T_3f7b7_row5_col7\" class=\"data row5 col7\" >0.500</td>\n",
       "                        <td id=\"T_3f7b7_row5_col8\" class=\"data row5 col8\" >0.395</td>\n",
       "            </tr>\n",
       "            <tr>\n",
       "                        <th id=\"T_3f7b7_level0_row6\" class=\"row_heading level0 row6\" >0.35</th>\n",
       "                        <td id=\"T_3f7b7_row6_col0\" class=\"data row6 col0\" >0.047</td>\n",
       "                        <td id=\"T_3f7b7_row6_col1\" class=\"data row6 col1\" >0.133</td>\n",
       "                        <td id=\"T_3f7b7_row6_col2\" class=\"data row6 col2\" >0.028</td>\n",
       "                        <td id=\"T_3f7b7_row6_col3\" class=\"data row6 col3\" >0.395</td>\n",
       "                        <td id=\"T_3f7b7_row6_col4\" class=\"data row6 col4\" >0.567</td>\n",
       "                        <td id=\"T_3f7b7_row6_col5\" class=\"data row6 col5\" >0.304</td>\n",
       "                        <td id=\"T_3f7b7_row6_col6\" class=\"data row6 col6\" >0.484</td>\n",
       "                        <td id=\"T_3f7b7_row6_col7\" class=\"data row6 col7\" >0.500</td>\n",
       "                        <td id=\"T_3f7b7_row6_col8\" class=\"data row6 col8\" >0.469</td>\n",
       "            </tr>\n",
       "            <tr>\n",
       "                        <th id=\"T_3f7b7_level0_row7\" class=\"row_heading level0 row7\" >0.4</th>\n",
       "                        <td id=\"T_3f7b7_row7_col0\" class=\"data row7 col0\" >0.049</td>\n",
       "                        <td id=\"T_3f7b7_row7_col1\" class=\"data row7 col1\" >0.100</td>\n",
       "                        <td id=\"T_3f7b7_row7_col2\" class=\"data row7 col2\" >0.032</td>\n",
       "                        <td id=\"T_3f7b7_row7_col3\" class=\"data row7 col3\" >0.395</td>\n",
       "                        <td id=\"T_3f7b7_row7_col4\" class=\"data row7 col4\" >0.567</td>\n",
       "                        <td id=\"T_3f7b7_row7_col5\" class=\"data row7 col5\" >0.304</td>\n",
       "                        <td id=\"T_3f7b7_row7_col6\" class=\"data row7 col6\" >0.421</td>\n",
       "                        <td id=\"T_3f7b7_row7_col7\" class=\"data row7 col7\" >0.400</td>\n",
       "                        <td id=\"T_3f7b7_row7_col8\" class=\"data row7 col8\" >0.444</td>\n",
       "            </tr>\n",
       "            <tr>\n",
       "                        <th id=\"T_3f7b7_level0_row8\" class=\"row_heading level0 row8\" >0.45</th>\n",
       "                        <td id=\"T_3f7b7_row8_col0\" class=\"data row8 col0\" >0.071</td>\n",
       "                        <td id=\"T_3f7b7_row8_col1\" class=\"data row8 col1\" >0.100</td>\n",
       "                        <td id=\"T_3f7b7_row8_col2\" class=\"data row8 col2\" >0.055</td>\n",
       "                        <td id=\"T_3f7b7_row8_col3\" class=\"data row8 col3\" >0.395</td>\n",
       "                        <td id=\"T_3f7b7_row8_col4\" class=\"data row8 col4\" >0.567</td>\n",
       "                        <td id=\"T_3f7b7_row8_col5\" class=\"data row8 col5\" >0.304</td>\n",
       "                        <td id=\"T_3f7b7_row8_col6\" class=\"data row8 col6\" >0.421</td>\n",
       "                        <td id=\"T_3f7b7_row8_col7\" class=\"data row8 col7\" >0.400</td>\n",
       "                        <td id=\"T_3f7b7_row8_col8\" class=\"data row8 col8\" >0.444</td>\n",
       "            </tr>\n",
       "            <tr>\n",
       "                        <th id=\"T_3f7b7_level0_row9\" class=\"row_heading level0 row9\" >0.5</th>\n",
       "                        <td id=\"T_3f7b7_row9_col0\" class=\"data row9 col0\" >0.061</td>\n",
       "                        <td id=\"T_3f7b7_row9_col1\" class=\"data row9 col1\" >0.067</td>\n",
       "                        <td id=\"T_3f7b7_row9_col2\" class=\"data row9 col2\" >0.056</td>\n",
       "                        <td id=\"T_3f7b7_row9_col3\" class=\"data row9 col3\" >0.395</td>\n",
       "                        <td id=\"T_3f7b7_row9_col4\" class=\"data row9 col4\" >0.567</td>\n",
       "                        <td id=\"T_3f7b7_row9_col5\" class=\"data row9 col5\" >0.304</td>\n",
       "                        <td id=\"T_3f7b7_row9_col6\" class=\"data row9 col6\" >0.415</td>\n",
       "                        <td id=\"T_3f7b7_row9_col7\" class=\"data row9 col7\" >0.367</td>\n",
       "                        <td id=\"T_3f7b7_row9_col8\" class=\"data row9 col8\" >0.478</td>\n",
       "            </tr>\n",
       "            <tr>\n",
       "                        <th id=\"T_3f7b7_level0_row10\" class=\"row_heading level0 row10\" >0.55</th>\n",
       "                        <td id=\"T_3f7b7_row10_col0\" class=\"data row10 col0\" >0.037</td>\n",
       "                        <td id=\"T_3f7b7_row10_col1\" class=\"data row10 col1\" >0.033</td>\n",
       "                        <td id=\"T_3f7b7_row10_col2\" class=\"data row10 col2\" >0.042</td>\n",
       "                        <td id=\"T_3f7b7_row10_col3\" class=\"data row10 col3\" >0.395</td>\n",
       "                        <td id=\"T_3f7b7_row10_col4\" class=\"data row10 col4\" >0.567</td>\n",
       "                        <td id=\"T_3f7b7_row10_col5\" class=\"data row10 col5\" >0.304</td>\n",
       "                        <td id=\"T_3f7b7_row10_col6\" class=\"data row10 col6\" >0.392</td>\n",
       "                        <td id=\"T_3f7b7_row10_col7\" class=\"data row10 col7\" >0.333</td>\n",
       "                        <td id=\"T_3f7b7_row10_col8\" class=\"data row10 col8\" >0.476</td>\n",
       "            </tr>\n",
       "            <tr>\n",
       "                        <th id=\"T_3f7b7_level0_row11\" class=\"row_heading level0 row11\" >0.6</th>\n",
       "                        <td id=\"T_3f7b7_row11_col0\" class=\"data row11 col0\" >0.000</td>\n",
       "                        <td id=\"T_3f7b7_row11_col1\" class=\"data row11 col1\" >0.000</td>\n",
       "                        <td id=\"T_3f7b7_row11_col2\" class=\"data row11 col2\" >0.000</td>\n",
       "                        <td id=\"T_3f7b7_row11_col3\" class=\"data row11 col3\" >0.395</td>\n",
       "                        <td id=\"T_3f7b7_row11_col4\" class=\"data row11 col4\" >0.567</td>\n",
       "                        <td id=\"T_3f7b7_row11_col5\" class=\"data row11 col5\" >0.304</td>\n",
       "                        <td id=\"T_3f7b7_row11_col6\" class=\"data row11 col6\" >0.408</td>\n",
       "                        <td id=\"T_3f7b7_row11_col7\" class=\"data row11 col7\" >0.333</td>\n",
       "                        <td id=\"T_3f7b7_row11_col8\" class=\"data row11 col8\" >0.526</td>\n",
       "            </tr>\n",
       "            <tr>\n",
       "                        <th id=\"T_3f7b7_level0_row12\" class=\"row_heading level0 row12\" >0.65</th>\n",
       "                        <td id=\"T_3f7b7_row12_col0\" class=\"data row12 col0\" >0.000</td>\n",
       "                        <td id=\"T_3f7b7_row12_col1\" class=\"data row12 col1\" >0.000</td>\n",
       "                        <td id=\"T_3f7b7_row12_col2\" class=\"data row12 col2\" >0.000</td>\n",
       "                        <td id=\"T_3f7b7_row12_col3\" class=\"data row12 col3\" >0.395</td>\n",
       "                        <td id=\"T_3f7b7_row12_col4\" class=\"data row12 col4\" >0.567</td>\n",
       "                        <td id=\"T_3f7b7_row12_col5\" class=\"data row12 col5\" >0.304</td>\n",
       "                        <td id=\"T_3f7b7_row12_col6\" class=\"data row12 col6\" >0.340</td>\n",
       "                        <td id=\"T_3f7b7_row12_col7\" class=\"data row12 col7\" >0.267</td>\n",
       "                        <td id=\"T_3f7b7_row12_col8\" class=\"data row12 col8\" >0.471</td>\n",
       "            </tr>\n",
       "    </tbody></table>"
      ],
      "text/plain": [
       "<pandas.io.formats.style.Styler at 0x1f1863c5280>"
      ]
     },
     "execution_count": 22,
     "metadata": {},
     "output_type": "execute_result"
    }
   ],
   "source": [
    "zz = lambda s: np.where(df_multi.columns.get_level_values(0).isin([\"LOGIT\"]), \"color:cornflowerblue;\", np.where(df_multi.columns.get_level_values(0).isin([\"HYBRID\"]), \"color:indianred;\", \"color:black;\"))\n",
    "df_multi.style.set_properties(**{'font-weight': 'bold'}).apply(zz, axis=1).format(\"{:.3f}\")"
   ]
  },
  {
   "cell_type": "code",
   "execution_count": 23,
   "id": "d1ea867f",
   "metadata": {},
   "outputs": [],
   "source": [
    "cf0 = confusion_matrix(y_test,logreg_cv.predict_proba(X_test)[:,1]>0.1)\n",
    "cf1 = confusion_matrix(y_test,clf_cv.predict_proba(X_test_ensemble)[:,1]>0.5)\n",
    "cf2 = confusion_matrix(y_test,xgb_cv.predict_proba(X_test)[:,1]>0.35)\n",
    "cf3 = confusion_matrix(y_test,xgb_cv.predict_proba(X_test)[:,1]>0.01)"
   ]
  },
  {
   "cell_type": "code",
   "execution_count": 24,
   "id": "90149193",
   "metadata": {},
   "outputs": [
    {
     "data": {
      "text/plain": [
       "Text(0.5, 1.0, 'XGB; cutoff = 0.01')"
      ]
     },
     "execution_count": 24,
     "metadata": {},
     "output_type": "execute_result"
    },
    {
     "data": {
      "image/png": "[encoded data removed]",
      "text/plain": [
       "<Figure size 432x288 with 2 Axes>"
      ]
     },
     "metadata": {
      "needs_background": "light"
     },
     "output_type": "display_data"
    },
    {
     "data": {
      "image/png": "[encoded data removed]",
      "text/plain": [
       "<Figure size 432x288 with 2 Axes>"
      ]
     },
     "metadata": {
      "needs_background": "light"
     },
     "output_type": "display_data"
    },
    {
     "data": {
      "image/png": "[encoded data removed]",
      "text/plain": [
       "<Figure size 432x288 with 2 Axes>"
      ]
     },
     "metadata": {
      "needs_background": "light"
     },
     "output_type": "display_data"
    },
    {
     "data": {
      "image/png": "[encoded data removed]",
      "text/plain": [
       "<Figure size 432x288 with 2 Axes>"
      ]
     },
     "metadata": {
      "needs_background": "light"
     },
     "output_type": "display_data"
    }
   ],
   "source": [
    "disp = ConfusionMatrixDisplay(confusion_matrix=cf0,\n",
    "                              display_labels=logreg_cv.classes_)\n",
    "disp.plot(cmap='YlGn')\n",
    "disp.ax_.set_title(\"LOGREG; cutoff = 0.1\")\n",
    "disp = ConfusionMatrixDisplay(confusion_matrix=cf1,\n",
    "                              display_labels=logreg_cv.classes_)\n",
    "disp.plot(cmap='YlGn')\n",
    "disp.ax_.set_title(\"HYBRID; cutoff = 0.5\")\n",
    "disp = ConfusionMatrixDisplay(confusion_matrix=cf2,\n",
    "                              display_labels=logreg_cv.classes_)\n",
    "disp.plot(cmap='YlGn')\n",
    "disp.ax_.set_title(\"XGB; cutoff = 0.35\")\n",
    "disp = ConfusionMatrixDisplay(confusion_matrix=cf3,\n",
    "                              display_labels=logreg_cv.classes_)\n",
    "disp.plot(cmap='YlGn')\n",
    "disp.ax_.set_title(\"XGB; cutoff = 0.01\")"
   ]
  },
  {
   "cell_type": "code",
   "execution_count": null,
   "id": "f9cbdd61",
   "metadata": {},
   "outputs": [],
   "source": []
  }
 ],
 "metadata": {
  "kernelspec": {
   "display_name": "Python 3",
   "language": "python",
   "name": "python3"
  },
  "language_info": {
   "codemirror_mode": {
    "name": "ipython",
    "version": 3
   },
   "file_extension": ".py",
   "mimetype": "text/x-python",
   "name": "python",
   "nbconvert_exporter": "python",
   "pygments_lexer": "ipython3",
   "version": "3.8.8"
  }
 },
 "nbformat": 4,
 "nbformat_minor": 5
}
